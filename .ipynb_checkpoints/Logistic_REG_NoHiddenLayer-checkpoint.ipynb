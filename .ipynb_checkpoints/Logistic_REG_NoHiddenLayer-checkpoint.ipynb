{
 "cells": [
  {
   "cell_type": "code",
   "execution_count": 1,
   "metadata": {},
   "outputs": [],
   "source": [
    "#Importing libraries\n",
    "import matplotlib.pyplot as plt\n",
    "import numpy as np\n",
    "from sklearn.preprocessing import StandardScaler\n",
    "from sklearn.linear_model import LogisticRegression\n",
    "from sklearn.model_selection import train_test_split\n",
    "from sklearn.metrics import accuracy_score\n",
    "import pandas as pd\n",
    "import sys\n",
    "import random"
   ]
  },
  {
   "cell_type": "code",
   "execution_count": 2,
   "metadata": {},
   "outputs": [],
   "source": [
    "class myNN:\n",
    "    def __init__(self):\n",
    "        self.w1 = 1 \n",
    "        self.w2 = 1\n",
    "        self.bias = 0\n",
    "    def sigmoid_numpy(self,x):\n",
    "        import math\n",
    "        return (1/(1+np.exp(-x)))\n",
    "    \n",
    "    def accuracy(self,y_test,y_predicted):\n",
    "        score=0\n",
    "        for i in range(0, len(y_predicted)-1):\n",
    "            if (y_predicted[i]==y_test[i]):\n",
    "                score=score+1\n",
    "        score = score / len(y_test)\n",
    "        print(f\"score is : {round(score*100,2)}%\")\n",
    "        #return score\n",
    "    \n",
    "    def fit(self, X, y, epochs):\n",
    "        self.w1, self.bias, cost = self.stch_gradient_descent(X,y, epochs)\n",
    "        #print(f\"Final weights and bias: w1: {self.w1}, bias: {self.bias}, cost: {cost}\")\n",
    "        \n",
    "    def log_loss(self,y_true, y_predicted):\n",
    "        epsilon = 1e-15\n",
    "        y_predicted_new = max(y_predicted,epsilon)\n",
    "        y_predicted_new = [min(y_predicted_new,1-epsilon)]\n",
    "        y_predicted_new = np.array(y_predicted_new)\n",
    "        return -np.mean(y_true*np.log(y_predicted_new)+(1-y_true)*np.log(1-y_predicted_new))\n",
    "    \n",
    "    def predict(self, X_test):\n",
    "        nsamples, nattribs = np.shape(X_test)\n",
    "        weighted_sum=[]\n",
    "        for i in range(0,nsamples-1):\n",
    "            x_temp=[]\n",
    "            x_temp=X_test[i].T\n",
    "            weighted_sum1 = np.dot(self.w1,x_temp) + self.bias\n",
    "            #print(f\"iter: {i} -- w1 : {self.w1} -- x[i]: {X_test[i]} -- weighted sum: {self.sigmoid_numpy(weighted_sum1)}\")\n",
    "            if (weighted_sum1> 0.5):\n",
    "                weighted_sum.append(1)\n",
    "            else : \n",
    "                weighted_sum.append(0)\n",
    "            \n",
    "        return weighted_sum\n",
    "    \n",
    "    def stch_gradient_descent(self, X_tem, y_true, epochs):\n",
    "        (nsamples, nattribs) = np.shape(X_tem)\n",
    "        w = np.ones(shape=nattribs)\n",
    "        bias = 0\n",
    "        rate = 0.01\n",
    "#         cost_list = []\n",
    "#         epoch_list=[]\n",
    "        for i in range(epochs):\n",
    "            \n",
    "            random_index= random.randint(0,nsamples-1)\n",
    "            x_sample=X_tem[random_index]\n",
    "            y_sample=y_true[random_index]\n",
    "            y_predicted= np.dot(w,x_sample)+bias\n",
    "                    \n",
    "            #y_predicted = sigmoid_numpy(weighted_sum)\n",
    "            loss = self.log_loss(y_true, y_predicted)\n",
    "            \n",
    "            w_d = -(2/nsamples)*x_sample.T.dot(y_sample-y_predicted)\n",
    "            bias_d = -( 2/nsamples)*(y_sample-y_predicted)\n",
    "            \n",
    "            w = w - rate * w_d\n",
    "            bias = bias - rate * bias_d\n",
    "            \n",
    "            cost = np.square(y_sample - y_predicted)\n",
    "            \n",
    "#             if i%100==0:\n",
    "#                 cost_list.append(cost)\n",
    "#                 epoch_list.append(i)\n",
    "            \n",
    "            \n",
    "        return w, bias, cost"
   ]
  },
  {
   "cell_type": "code",
   "execution_count": 3,
   "metadata": {},
   "outputs": [
    {
     "name": "stdout",
     "output_type": "stream",
     "text": [
      "Generating report for accuracy of multiple iterations\n",
      "score is : 82.58%\n"
     ]
    }
   ],
   "source": [
    "if __name__ == \"__main__\":\n",
    "    df = pd.read_csv(\"moons400.csv\")\n",
    "\n",
    "    # The y values are those labelled 'Class': extract their values\n",
    "    y = df['Class'].values\n",
    "\n",
    "    # The x values are all other columns\n",
    "    del df['Class']   # drop the 'Class' column from the dataframe\n",
    "    X = df.values     # convert the remaining columns to a numpy array\n",
    "    print(\"Generating report for accuracy of multiple iterations\")\n",
    "    #X1 = Scalar_function(X)\n",
    "    scaler = StandardScaler()\n",
    "    X = scaler.fit_transform(X)\n",
    "    #obj1 = Logistic_Multilinear(n_iteration=10000).train_algo(X_train, y_train)\n",
    "    X_train, X_test, y_train, y_test = train_test_split(X, y, test_size=0.33)\n",
    "    obj1 = myNN()\n",
    "    obj1.fit(X_train, y_train, epochs=100000)\n",
    "    y_predicted = obj1.predict(X_test)\n",
    "    obj1.accuracy(y_test,np.array(y_predicted))\n",
    "#print(f\"score is : {score}\")"
   ]
  },
  {
   "cell_type": "code",
   "execution_count": 4,
   "metadata": {},
   "outputs": [
    {
     "name": "stdout",
     "output_type": "stream",
     "text": [
      "Generating report for accuracy of multiple iterations\n",
      "score is : 97.59%\n"
     ]
    }
   ],
   "source": [
    "if __name__ == \"__main__\":\n",
    "    df = pd.read_csv(\"blobs250.csv\")\n",
    "\n",
    "    # The y values are those labelled 'Class': extract their values\n",
    "    y = df['Class'].values\n",
    "\n",
    "    # The x values are all other columns\n",
    "    del df['Class']   # drop the 'Class' column from the dataframe\n",
    "    X = df.values     # convert the remaining columns to a numpy array\n",
    "    print(\"Generating report for accuracy of multiple iterations\")\n",
    "    #X1 = Scalar_function(X)\n",
    "    scaler = StandardScaler()\n",
    "    X = scaler.fit_transform(X)\n",
    "    #obj1 = Logistic_Multilinear(n_iteration=10000).train_algo(X_train, y_train)\n",
    "    X_train, X_test, y_train, y_test = train_test_split(X, y, test_size=0.33)\n",
    "    obj1 = myNN()\n",
    "    obj1.fit(X_train, y_train, epochs=100000)\n",
    "    y_predicted = obj1.predict(X_test)\n",
    "    obj1.accuracy(y_test,np.array(y_predicted))"
   ]
  }
 ],
 "metadata": {
  "kernelspec": {
   "display_name": "Python 3",
   "language": "python",
   "name": "python3"
  },
  "language_info": {
   "codemirror_mode": {
    "name": "ipython",
    "version": 3
   },
   "file_extension": ".py",
   "mimetype": "text/x-python",
   "name": "python",
   "nbconvert_exporter": "python",
   "pygments_lexer": "ipython3",
   "version": "3.8.3"
  }
 },
 "nbformat": 4,
 "nbformat_minor": 4
}
